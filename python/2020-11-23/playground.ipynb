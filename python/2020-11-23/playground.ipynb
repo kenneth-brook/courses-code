{
 "metadata": {
  "language_info": {
   "codemirror_mode": {
    "name": "ipython",
    "version": 3
   },
   "file_extension": ".py",
   "mimetype": "text/x-python",
   "name": "python",
   "nbconvert_exporter": "python",
   "pygments_lexer": "ipython3",
   "version": "3.8.6-final"
  },
  "orig_nbformat": 2,
  "kernelspec": {
   "name": "python3",
   "display_name": "Python 3.8.6 64-bit",
   "metadata": {
    "interpreter": {
     "hash": "55844fc403c1e6cbb23f0e846261a1093ea409966506a36fcc9ef96058a485f3"
    }
   }
  }
 },
 "nbformat": 4,
 "nbformat_minor": 2,
 "cells": [
  {
   "cell_type": "code",
   "execution_count": 1,
   "metadata": {},
   "outputs": [],
   "source": [
    "a = [2, 1, 3]"
   ]
  },
  {
   "cell_type": "code",
   "execution_count": 4,
   "metadata": {},
   "outputs": [
    {
     "output_type": "stream",
     "name": "stdout",
     "text": [
      "[1, 2, 3]\n"
     ]
    }
   ],
   "source": [
    "b = sorted(a)\n",
    "print(b)"
   ]
  },
  {
   "cell_type": "code",
   "execution_count": 6,
   "metadata": {},
   "outputs": [
    {
     "output_type": "stream",
     "name": "stdout",
     "text": [
      "[1, 2, 3]\n"
     ]
    }
   ],
   "source": [
    "a.sort()\n",
    "print(a)"
   ]
  },
  {
   "cell_type": "code",
   "execution_count": 13,
   "metadata": {},
   "outputs": [
    {
     "output_type": "stream",
     "name": "stdout",
     "text": [
      "[1]\n[1, 1]\n[2, 2, 1]\n[1, 1]\n[1, 1]\n[]\n"
     ]
    }
   ],
   "source": [
    "# mutable default arguments\n",
    "\n",
    "def add_1_to_the_end(l=None):\n",
    "    if l is None:\n",
    "        l == []\n",
    "    l.append(1)\n",
    "    return l\n",
    "\n",
    "\n",
    "a = [1]\n",
    "b = [2, 2]\n",
    "\n",
    "a = add_1_to_the_end(a)\n",
    "b = add_1_to_the_end(b)\n",
    "\n",
    "x = add_1_to_the_end()\n",
    "print(x)\n",
    "y = add_1_to_the_end()\n",
    "\n",
    "print(a)\n",
    "print(b)\n",
    "\n",
    "print(x)\n",
    "print(y)\n",
    "\n",
    "x.clear()\n",
    "print(x)"
   ]
  },
  {
   "cell_type": "code",
   "execution_count": 16,
   "metadata": {},
   "outputs": [
    {
     "output_type": "stream",
     "name": "stdout",
     "text": [
      "2020-11-25\n2020-11-26\n"
     ]
    },
    {
     "output_type": "execute_result",
     "data": {
      "text/plain": [
       "datetime.date(2020, 11, 26)"
      ]
     },
     "metadata": {},
     "execution_count": 16
    }
   ],
   "source": [
    "# example: static methods / class methods\n",
    "\n",
    "from datetime import date\n",
    "\n",
    "a = date.today()\n",
    "b = date.fromisoformat(\"2020-11-26\")\n",
    "\n",
    "print(a)\n",
    "print(b)\n",
    "b"
   ]
  },
  {
   "cell_type": "code",
   "execution_count": 4,
   "metadata": {},
   "outputs": [
    {
     "output_type": "execute_result",
     "data": {
      "text/plain": [
       "[(4, 'four'), (1, 'one'), (3, 'three'), (2, 'two')]"
      ]
     },
     "metadata": {},
     "execution_count": 4
    }
   ],
   "source": [
    "pairs = [(1, 'one'), (2, 'two'), (3, 'three'), (4, 'four')]\n",
    "\n",
    "pairs.sort(key=lambda e: e[1])\n",
    "pairs"
   ]
  },
  {
   "cell_type": "code",
   "execution_count": 5,
   "metadata": {},
   "outputs": [],
   "source": [
    "from functools import partial\n",
    "open_utf8 = partial(open, encoding='utf-8')"
   ]
  },
  {
   "cell_type": "code",
   "execution_count": 12,
   "metadata": {},
   "outputs": [
    {
     "output_type": "execute_result",
     "data": {
      "text/plain": [
       "43466557686937456435688527675040625802564660517371780402481729089536555417949051890403879840079255169295922593080322634775209689623239873322471161642996440906533187938298969649928516003704476137795166849228875"
      ]
     },
     "metadata": {},
     "execution_count": 12
    }
   ],
   "source": [
    "from functools import lru_cache\n",
    "\n",
    "cache = {}\n",
    "\n",
    "def fibonacci_manual_cache(n):\n",
    "    if n in [0, 1]:\n",
    "        return n\n",
    "    if n in cache:\n",
    "        return cache[n]\n",
    "    \n",
    "    result = fibonacci_manual_cache(n-1) + fibonacci_manual_cache(n-2)\n",
    "    cache[n] = result\n",
    "    return result\n",
    "\n",
    "def fibonacci(n):\n",
    "    if n in [0, 1]:\n",
    "        return n\n",
    "    result = fibonacci(n-1) + fibonacci(n-2)\n",
    "    return result\n",
    "\n",
    "# make faster by caching\n",
    "\n",
    "# python >= 3.2\n",
    "fibonacci = lru_cache(256)(fibonacci)\n",
    "fibonacci = lru_cache()(fibonacci)\n",
    "# decorator syntax would work too\n",
    "# in older versions\n",
    "\n",
    "# python >= 3.8\n",
    "fibonacci = lru_cache(fibonacci)\n",
    "\n",
    "# python >= 3.9\n",
    "fibonacci = cache(fibonacci)\n",
    "\n",
    "# 0 1 1 2 3 5 8 13 21 34 ...\n",
    "\n",
    "fibonacci(1000)"
   ]
  },
  {
   "cell_type": "code",
   "execution_count": null,
   "metadata": {},
   "outputs": [],
   "source": []
  }
 ]
}