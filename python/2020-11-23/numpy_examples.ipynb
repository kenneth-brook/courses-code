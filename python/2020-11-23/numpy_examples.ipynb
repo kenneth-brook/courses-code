{
 "metadata": {
  "language_info": {
   "codemirror_mode": {
    "name": "ipython",
    "version": 3
   },
   "file_extension": ".py",
   "mimetype": "text/x-python",
   "name": "python",
   "nbconvert_exporter": "python",
   "pygments_lexer": "ipython3",
   "version": "3.8.6-final"
  },
  "orig_nbformat": 2,
  "kernelspec": {
   "name": "python3",
   "display_name": "Python 3.8.6 64-bit",
   "metadata": {
    "interpreter": {
     "hash": "55844fc403c1e6cbb23f0e846261a1093ea409966506a36fcc9ef96058a485f3"
    }
   }
  }
 },
 "nbformat": 4,
 "nbformat_minor": 2,
 "cells": [
  {
   "cell_type": "code",
   "execution_count": 1,
   "metadata": {},
   "outputs": [],
   "source": [
    "import numpy as np"
   ]
  },
  {
   "cell_type": "code",
   "execution_count": 2,
   "metadata": {},
   "outputs": [],
   "source": [
    "a1d = np.array([0, 1, 2, 3, 4, 5, 6, 7, 8, 9])\n",
    "a2d = np.array([[1, 2, 3], [4, 5, 6], [7, 8, 9]])\n",
    "a3d = np.array([[[1, 2], [3, 4]], [[5, 6], [7,8]]])"
   ]
  },
  {
   "cell_type": "code",
   "execution_count": 3,
   "metadata": {},
   "outputs": [
    {
     "output_type": "execute_result",
     "data": {
      "text/plain": [
       "array([[1, 2, 3],\n",
       "       [4, 5, 6],\n",
       "       [7, 8, 9]])"
      ]
     },
     "metadata": {},
     "execution_count": 3
    }
   ],
   "source": [
    "a2d"
   ]
  },
  {
   "cell_type": "code",
   "execution_count": 27,
   "metadata": {},
   "outputs": [
    {
     "output_type": "stream",
     "name": "stdout",
     "text": [
      "38\n",
      "[36 40 35 ... 29 26 41]\n"
     ]
    }
   ],
   "source": [
    "# dice rolls\n",
    "\n",
    "# 3, 2, 4, 1, 6, 6, 5, ... -> 37\n",
    "# 4, 3, 6, 6, 1,           -> 40\n",
    "#                             34\n",
    "#                             35\n",
    "\n",
    "simulation_10_dice = np.random.randint(1, 7, (10, ) )\n",
    "sum_10_dice = np.sum(simulation_10_dice)\n",
    "print(sum_10_dice)\n",
    "\n",
    "simulation_1_million_times_10_dice = np.random.randint(1, 7, (1_000_000, 10))\n",
    "\n",
    "simulation_1_million_times_10_dice[:5, :]\n",
    "\n",
    "sums_1_million_times_10_dice = np.sum(simulation_1_million_times_10_dice, axis=1)\n",
    "print(sums_1_million_times_10_dice)"
   ]
  },
  {
   "cell_type": "code",
   "execution_count": 69,
   "metadata": {},
   "outputs": [
    {
     "output_type": "execute_result",
     "data": {
      "text/plain": [
       "array([[0.        , 0.01      , 0.02      , 0.03      , 0.04      ],\n",
       "       [0.        , 0.00999983, 0.01999867, 0.0299955 , 0.03998933],\n",
       "       [1.        , 0.99995   , 0.99980001, 0.99955003, 0.99920011]])"
      ]
     },
     "metadata": {},
     "execution_count": 69
    }
   ],
   "source": [
    "x = np.arange(0, 2*np.pi, 0.01)\n",
    "sin_x = np.sin(x)\n",
    "cos_x = np.cos(x)\n",
    "\n",
    "values = np.array([x, sin_x, cos_x])\n",
    "values = np.concatenate([x.reshape(1, -1), sin_x.reshape(1, -1), cos_x.reshape(1, -1)], axis=0)\n",
    "\n",
    "values[:, :5]"
   ]
  },
  {
   "cell_type": "code",
   "execution_count": 42,
   "metadata": {},
   "outputs": [
    {
     "output_type": "stream",
     "name": "stdout",
     "text": [
      "[4.1 2.7 3.8]\n[4.1 2.7 nan 3.8 nan]\n"
     ]
    }
   ],
   "source": [
    "a = np.array([4.1, 2.7, -1, 3.8, -1])\n",
    "\n",
    "a_valid = a > 0\n",
    "a[a_valid]\n",
    "\n",
    "a_filtered = a[a > 0]\n",
    "print(a_filtered)\n",
    "\n",
    "a_with_nans = a.copy()\n",
    "a_with_nans[a_with_nans < 0] = np.nan\n",
    "print(a_with_nans)"
   ]
  },
  {
   "cell_type": "code",
   "execution_count": 47,
   "metadata": {},
   "outputs": [
    {
     "output_type": "execute_result",
     "data": {
      "text/plain": [
       "array([[1, 2, 3],\n",
       "       [0, 0, 0],\n",
       "       [7, 8, 9]])"
      ]
     },
     "metadata": {},
     "execution_count": 47
    }
   ],
   "source": [
    "a2d"
   ]
  },
  {
   "cell_type": "code",
   "execution_count": 49,
   "metadata": {},
   "outputs": [
    {
     "output_type": "execute_result",
     "data": {
      "text/plain": [
       "array([1, 2, 3, 0, 0, 0, 7, 8, 9])"
      ]
     },
     "metadata": {},
     "execution_count": 49
    }
   ],
   "source": [
    "a2d.reshape(9)"
   ]
  },
  {
   "cell_type": "code",
   "execution_count": 51,
   "metadata": {},
   "outputs": [
    {
     "output_type": "execute_result",
     "data": {
      "text/plain": [
       "array([[0, 1, 2],\n",
       "       [3, 4, 5],\n",
       "       [6, 7, 8]])"
      ]
     },
     "metadata": {},
     "execution_count": 51
    }
   ],
   "source": [
    "np.arange(9).reshape(3, 3)"
   ]
  },
  {
   "cell_type": "code",
   "execution_count": 71,
   "metadata": {},
   "outputs": [
    {
     "output_type": "stream",
     "name": "stdout",
     "text": [
      "[[ 0.00000000e+00  0.00000000e+00]\n [-9.99698000e-01  1.37436729e-17]\n [-9.99698000e-01  9.99698000e-01]\n [-1.37436729e-17  9.99698000e-01]]\n"
     ]
    }
   ],
   "source": [
    "points = np.array([[0, 0], [0, 1], [1, 1], [1, 0]])\n",
    "\n",
    "m = np.array([[0.707, 0.707],\n",
    "              [-0.707, 0.707]])\n",
    "\n",
    "print(points @ m @ m)"
   ]
  },
  {
   "cell_type": "code",
   "execution_count": 73,
   "metadata": {},
   "outputs": [
    {
     "output_type": "execute_result",
     "data": {
      "text/plain": [
       "array([3011.2,  399. ,  949.5])"
      ]
     },
     "metadata": {},
     "execution_count": 73
    }
   ],
   "source": [
    "prices = np.array([3.99, 12.99, 5.90, 15])\n",
    "quantities = np.array([[0, 80, 80, 100],\n",
    "                       [100, 0, 0, 0],\n",
    "                       [50, 0, 0, 50]])\n",
    "\n",
    "prices @ quantities.T"
   ]
  },
  {
   "cell_type": "code",
   "execution_count": null,
   "metadata": {},
   "outputs": [],
   "source": []
  }
 ]
}